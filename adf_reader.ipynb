{
 "cells": [
  {
   "cell_type": "code",
   "execution_count": 96,
   "metadata": {},
   "outputs": [],
   "source": [
    "import pandas as pd\n",
    "file = \"P:/USERS/PSG/Cartridge DOE 09Nov2022 (Ultra Sonic Weld + Regular Ridge)/Data/Run 1/RawDataExport.12000001.N000001.2211091612.ACEDC451.xlsx\"\n",
    "data = pd.read_excel(io=file,sheet_name=None)#,header=2)"
   ]
  },
  {
   "cell_type": "code",
   "execution_count": 99,
   "metadata": {},
   "outputs": [
    {
     "name": "stdout",
     "output_type": "stream",
     "text": [
      "ADF HCV,9.4.10\n"
     ]
    }
   ],
   "source": [
    "\n"
   ]
  },
  {
   "cell_type": "code",
   "execution_count": 118,
   "metadata": {},
   "outputs": [
    {
     "data": {
      "text/plain": [
       "['Specimen Plasma 2 - Specimen Liquid Class',\n",
       " 'Specimen Plasma 2 - Buffer Liquid Class',\n",
       " 'Specimen Plasma 2 - Sample Dispense Extraction Plate Liquid Class',\n",
       " 'Specimen Plasma 2 - Extraction Aspirate Extraction Plate Liquid Class',\n",
       " 'Specimen Plasma 2 - Cartridge Dispense Empty Liquid Class',\n",
       " 'Specimen Plasma 2 - Cartridge Dispense Empty Reschedule Liquid Class',\n",
       " 'Specimen Plasma 2 - Aspirate From Cartridge Liquid Class',\n",
       " 'Specimen Plasma 2 - NeuMoDx Test Strip Liquid Class',\n",
       " 'Specimen Plasma 2 - Dispense To Cartridge Blowout Air Liquid Class',\n",
       " 'Specimen Plasma 2 - Dispense To Cartridge Liquid Class']"
      ]
     },
     "execution_count": 118,
     "metadata": {},
     "output_type": "execute_result"
    }
   ],
   "source": [
    "specimenType = 'Plasma 2'\n",
    "[x for x in adf_dict if 'Specimen' in x and 'Liquid Class' in x and specimenType == x.split(' -')[0][-1*(len(specimenType)):]]"
   ]
  },
  {
   "cell_type": "code",
   "execution_count": 116,
   "metadata": {},
   "outputs": [
    {
     "data": {
      "text/plain": [
       "['Specimen Plasma', ' Specimen Liquid Class']"
      ]
     },
     "execution_count": 116,
     "metadata": {},
     "output_type": "execute_result"
    }
   ],
   "source": [
    "[x for x in adf_dict if 'Specimen' in x and 'Liquid Class' in x and specimenType in x][0].split(' -')[-1*(len(specimenType)):]    "
   ]
  },
  {
   "cell_type": "code",
   "execution_count": 104,
   "metadata": {},
   "outputs": [
    {
     "data": {
      "text/plain": [
       "{'NMDX_IVD_LHPA_LB03_TADM': 1,\n",
       " 'NMDX_LHPA_CapPlate_Plasma_TADM': 2,\n",
       " 'NMDX_IVD_LHPA_Plasma_TADM': 3,\n",
       " 'NMDX_LHPB_CapPlate_Plasma_TADM': 4,\n",
       " 'NeuMoDx_HighVolumeFilter_Air_DispenseSurface': 5,\n",
       " 'NMDX_LHPB_Plasma_15_TADM': 6,\n",
       " 'NeuMoDx_LHPC1_StandardVolumeFilter_Air_Dispense': 7,\n",
       " 'NMDX_LHPC1_Plasma_TADM': 8,\n",
       " 'NMDX_LHPC2_Plasma_TADM': 9,\n",
       " 'NMDX_LHPC2_Plasma_TADM_dispensing': 10,\n",
       " 'NeuMoDx_LHPC2_StandardVolumeFilter_Air_Dispense': 11}"
      ]
     },
     "execution_count": 104,
     "metadata": {},
     "output_type": "execute_result"
    }
   ],
   "source": [
    "all_adf_TADMS['HCV,9.4.10']['Plasma']"
   ]
  }
 ],
 "metadata": {
  "kernelspec": {
   "display_name": "Python 3.10.8 64-bit",
   "language": "python",
   "name": "python3"
  },
  "language_info": {
   "codemirror_mode": {
    "name": "ipython",
    "version": 3
   },
   "file_extension": ".py",
   "mimetype": "text/x-python",
   "name": "python",
   "nbconvert_exporter": "python",
   "pygments_lexer": "ipython3",
   "version": "3.10.8"
  },
  "orig_nbformat": 4,
  "vscode": {
   "interpreter": {
    "hash": "8ca8ae99df12afeecc637c741eef9d8fc79f3c8a2a662f29db32bfeb3c8d3abb"
   }
  }
 },
 "nbformat": 4,
 "nbformat_minor": 2
}
