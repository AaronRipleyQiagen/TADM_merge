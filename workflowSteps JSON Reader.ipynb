{
 "cells": [
  {
   "cell_type": "code",
   "execution_count": 1,
   "id": "4ac8180e",
   "metadata": {},
   "outputs": [],
   "source": [
    "import json\n",
    "import pandas as pd\n",
    "\n",
    "##Define input File & Output File Directories\n",
    "##Note Do not use \"\\\" use only \"/\" in file name\n",
    "inputFile = \"C:/Users/RipleyA/WorkflowSteps_20220815/WorkflowSteps_20220815.json\"\n",
    "outputFile = \"C:/Users/RipleyA/json_scrape_test4.csv\"\n",
    "\n",
    "\n",
    "##open json file\n",
    "f = open (inputFile, \"r\")\n",
    "\n",
    "##read each line of json file\n",
    "Lines = f.readlines()\n",
    "\n",
    "##create a list to store entries in\n",
    "entries = []\n",
    "\n",
    "##iterate through each line of json file\n",
    "for line in Lines:\n",
    "    \n",
    "    ##create an empty entry object\n",
    "    entry = {}\n",
    "    \n",
    "    ##get the json object from the line being read\n",
    "    jsonobj = json.loads(line)\n",
    "    \n",
    "    ##iterate through each item in json object\n",
    "    for item in range(0, len(jsonobj)):\n",
    "         \n",
    "        ##add each item in the json object to entry object\n",
    "        entry[item] = jsonobj[item]['v']\n",
    "    \n",
    "    ##add filled in entry to the entries list\n",
    "    entries.append(entry)\n",
    "        \n",
    "##create a dataframe from the entries\n",
    "dataframe = pd.DataFrame(data=entries)\n",
    "\n",
    "##perform type conversion of datetime columns \n",
    "dataframe[4] = dataframe[4].astype('datetime64')\n",
    "dataframe[5] = dataframe[5].astype('datetime64')\n",
    "\n",
    "##export dataframe to output file directory specified\n",
    "dataframe.to_csv(outputFile)"
   ]
  },
  {
   "cell_type": "code",
   "execution_count": null,
   "id": "f5ac6c1e",
   "metadata": {},
   "outputs": [],
   "source": []
  }
 ],
 "metadata": {
  "kernelspec": {
   "display_name": "Python 3.10.8 64-bit",
   "language": "python",
   "name": "python3"
  },
  "language_info": {
   "codemirror_mode": {
    "name": "ipython",
    "version": 3
   },
   "file_extension": ".py",
   "mimetype": "text/x-python",
   "name": "python",
   "nbconvert_exporter": "python",
   "pygments_lexer": "ipython3",
   "version": "3.10.8"
  },
  "vscode": {
   "interpreter": {
    "hash": "8ca8ae99df12afeecc637c741eef9d8fc79f3c8a2a662f29db32bfeb3c8d3abb"
   }
  }
 },
 "nbformat": 4,
 "nbformat_minor": 5
}
